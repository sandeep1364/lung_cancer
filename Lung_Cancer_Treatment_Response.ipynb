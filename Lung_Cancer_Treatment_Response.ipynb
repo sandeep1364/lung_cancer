{
  "nbformat": 4,
  "nbformat_minor": 0,
  "metadata": {
    "colab": {
      "provenance": [],
      "authorship_tag": "ABX9TyPyy39VZJ0SZXKjSJK+4RQp",
      "include_colab_link": true
    },
    "kernelspec": {
      "name": "python3",
      "display_name": "Python 3"
    },
    "language_info": {
      "name": "python"
    },
    "widgets": {
      "application/vnd.jupyter.widget-state+json": {
        "9af211496bfe431bbf543e43e986c067": {
          "model_module": "@jupyter-widgets/controls",
          "model_name": "HBoxModel",
          "model_module_version": "1.5.0",
          "state": {
            "_dom_classes": [],
            "_model_module": "@jupyter-widgets/controls",
            "_model_module_version": "1.5.0",
            "_model_name": "HBoxModel",
            "_view_count": null,
            "_view_module": "@jupyter-widgets/controls",
            "_view_module_version": "1.5.0",
            "_view_name": "HBoxView",
            "box_style": "",
            "children": [
              "IPY_MODEL_3ab22eea187d4da6b82c9293d23de169",
              "IPY_MODEL_9b0cfec2f74f4eb8850303b1ec544125",
              "IPY_MODEL_dea8d78d9b4643f19f8062b87152fe42"
            ],
            "layout": "IPY_MODEL_e5fd3033da4841299c3c6e13a4b5165d"
          }
        },
        "3ab22eea187d4da6b82c9293d23de169": {
          "model_module": "@jupyter-widgets/controls",
          "model_name": "HTMLModel",
          "model_module_version": "1.5.0",
          "state": {
            "_dom_classes": [],
            "_model_module": "@jupyter-widgets/controls",
            "_model_module_version": "1.5.0",
            "_model_name": "HTMLModel",
            "_view_count": null,
            "_view_module": "@jupyter-widgets/controls",
            "_view_module_version": "1.5.0",
            "_view_name": "HTMLView",
            "description": "",
            "description_tooltip": null,
            "layout": "IPY_MODEL_c48f4fd25eb64576a9a5af13347cd5c8",
            "placeholder": "​",
            "style": "IPY_MODEL_fd25275a6f1043008f32212c17ab4af3",
            "value": "config.json: 100%"
          }
        },
        "9b0cfec2f74f4eb8850303b1ec544125": {
          "model_module": "@jupyter-widgets/controls",
          "model_name": "FloatProgressModel",
          "model_module_version": "1.5.0",
          "state": {
            "_dom_classes": [],
            "_model_module": "@jupyter-widgets/controls",
            "_model_module_version": "1.5.0",
            "_model_name": "FloatProgressModel",
            "_view_count": null,
            "_view_module": "@jupyter-widgets/controls",
            "_view_module_version": "1.5.0",
            "_view_name": "ProgressView",
            "bar_style": "success",
            "description": "",
            "description_tooltip": null,
            "layout": "IPY_MODEL_545c912103be40298ebdc6d7b1b0dda5",
            "max": 570,
            "min": 0,
            "orientation": "horizontal",
            "style": "IPY_MODEL_7511084e9fc749a59fa4b218835cf000",
            "value": 570
          }
        },
        "dea8d78d9b4643f19f8062b87152fe42": {
          "model_module": "@jupyter-widgets/controls",
          "model_name": "HTMLModel",
          "model_module_version": "1.5.0",
          "state": {
            "_dom_classes": [],
            "_model_module": "@jupyter-widgets/controls",
            "_model_module_version": "1.5.0",
            "_model_name": "HTMLModel",
            "_view_count": null,
            "_view_module": "@jupyter-widgets/controls",
            "_view_module_version": "1.5.0",
            "_view_name": "HTMLView",
            "description": "",
            "description_tooltip": null,
            "layout": "IPY_MODEL_0d00c14c32a64663b6d666196c559988",
            "placeholder": "​",
            "style": "IPY_MODEL_e38c6e76628e4a33a5b044ddd03cb625",
            "value": " 570/570 [00:00&lt;00:00, 31.5kB/s]"
          }
        },
        "e5fd3033da4841299c3c6e13a4b5165d": {
          "model_module": "@jupyter-widgets/base",
          "model_name": "LayoutModel",
          "model_module_version": "1.2.0",
          "state": {
            "_model_module": "@jupyter-widgets/base",
            "_model_module_version": "1.2.0",
            "_model_name": "LayoutModel",
            "_view_count": null,
            "_view_module": "@jupyter-widgets/base",
            "_view_module_version": "1.2.0",
            "_view_name": "LayoutView",
            "align_content": null,
            "align_items": null,
            "align_self": null,
            "border": null,
            "bottom": null,
            "display": null,
            "flex": null,
            "flex_flow": null,
            "grid_area": null,
            "grid_auto_columns": null,
            "grid_auto_flow": null,
            "grid_auto_rows": null,
            "grid_column": null,
            "grid_gap": null,
            "grid_row": null,
            "grid_template_areas": null,
            "grid_template_columns": null,
            "grid_template_rows": null,
            "height": null,
            "justify_content": null,
            "justify_items": null,
            "left": null,
            "margin": null,
            "max_height": null,
            "max_width": null,
            "min_height": null,
            "min_width": null,
            "object_fit": null,
            "object_position": null,
            "order": null,
            "overflow": null,
            "overflow_x": null,
            "overflow_y": null,
            "padding": null,
            "right": null,
            "top": null,
            "visibility": null,
            "width": null
          }
        },
        "c48f4fd25eb64576a9a5af13347cd5c8": {
          "model_module": "@jupyter-widgets/base",
          "model_name": "LayoutModel",
          "model_module_version": "1.2.0",
          "state": {
            "_model_module": "@jupyter-widgets/base",
            "_model_module_version": "1.2.0",
            "_model_name": "LayoutModel",
            "_view_count": null,
            "_view_module": "@jupyter-widgets/base",
            "_view_module_version": "1.2.0",
            "_view_name": "LayoutView",
            "align_content": null,
            "align_items": null,
            "align_self": null,
            "border": null,
            "bottom": null,
            "display": null,
            "flex": null,
            "flex_flow": null,
            "grid_area": null,
            "grid_auto_columns": null,
            "grid_auto_flow": null,
            "grid_auto_rows": null,
            "grid_column": null,
            "grid_gap": null,
            "grid_row": null,
            "grid_template_areas": null,
            "grid_template_columns": null,
            "grid_template_rows": null,
            "height": null,
            "justify_content": null,
            "justify_items": null,
            "left": null,
            "margin": null,
            "max_height": null,
            "max_width": null,
            "min_height": null,
            "min_width": null,
            "object_fit": null,
            "object_position": null,
            "order": null,
            "overflow": null,
            "overflow_x": null,
            "overflow_y": null,
            "padding": null,
            "right": null,
            "top": null,
            "visibility": null,
            "width": null
          }
        },
        "fd25275a6f1043008f32212c17ab4af3": {
          "model_module": "@jupyter-widgets/controls",
          "model_name": "DescriptionStyleModel",
          "model_module_version": "1.5.0",
          "state": {
            "_model_module": "@jupyter-widgets/controls",
            "_model_module_version": "1.5.0",
            "_model_name": "DescriptionStyleModel",
            "_view_count": null,
            "_view_module": "@jupyter-widgets/base",
            "_view_module_version": "1.2.0",
            "_view_name": "StyleView",
            "description_width": ""
          }
        },
        "545c912103be40298ebdc6d7b1b0dda5": {
          "model_module": "@jupyter-widgets/base",
          "model_name": "LayoutModel",
          "model_module_version": "1.2.0",
          "state": {
            "_model_module": "@jupyter-widgets/base",
            "_model_module_version": "1.2.0",
            "_model_name": "LayoutModel",
            "_view_count": null,
            "_view_module": "@jupyter-widgets/base",
            "_view_module_version": "1.2.0",
            "_view_name": "LayoutView",
            "align_content": null,
            "align_items": null,
            "align_self": null,
            "border": null,
            "bottom": null,
            "display": null,
            "flex": null,
            "flex_flow": null,
            "grid_area": null,
            "grid_auto_columns": null,
            "grid_auto_flow": null,
            "grid_auto_rows": null,
            "grid_column": null,
            "grid_gap": null,
            "grid_row": null,
            "grid_template_areas": null,
            "grid_template_columns": null,
            "grid_template_rows": null,
            "height": null,
            "justify_content": null,
            "justify_items": null,
            "left": null,
            "margin": null,
            "max_height": null,
            "max_width": null,
            "min_height": null,
            "min_width": null,
            "object_fit": null,
            "object_position": null,
            "order": null,
            "overflow": null,
            "overflow_x": null,
            "overflow_y": null,
            "padding": null,
            "right": null,
            "top": null,
            "visibility": null,
            "width": null
          }
        },
        "7511084e9fc749a59fa4b218835cf000": {
          "model_module": "@jupyter-widgets/controls",
          "model_name": "ProgressStyleModel",
          "model_module_version": "1.5.0",
          "state": {
            "_model_module": "@jupyter-widgets/controls",
            "_model_module_version": "1.5.0",
            "_model_name": "ProgressStyleModel",
            "_view_count": null,
            "_view_module": "@jupyter-widgets/base",
            "_view_module_version": "1.2.0",
            "_view_name": "StyleView",
            "bar_color": null,
            "description_width": ""
          }
        },
        "0d00c14c32a64663b6d666196c559988": {
          "model_module": "@jupyter-widgets/base",
          "model_name": "LayoutModel",
          "model_module_version": "1.2.0",
          "state": {
            "_model_module": "@jupyter-widgets/base",
            "_model_module_version": "1.2.0",
            "_model_name": "LayoutModel",
            "_view_count": null,
            "_view_module": "@jupyter-widgets/base",
            "_view_module_version": "1.2.0",
            "_view_name": "LayoutView",
            "align_content": null,
            "align_items": null,
            "align_self": null,
            "border": null,
            "bottom": null,
            "display": null,
            "flex": null,
            "flex_flow": null,
            "grid_area": null,
            "grid_auto_columns": null,
            "grid_auto_flow": null,
            "grid_auto_rows": null,
            "grid_column": null,
            "grid_gap": null,
            "grid_row": null,
            "grid_template_areas": null,
            "grid_template_columns": null,
            "grid_template_rows": null,
            "height": null,
            "justify_content": null,
            "justify_items": null,
            "left": null,
            "margin": null,
            "max_height": null,
            "max_width": null,
            "min_height": null,
            "min_width": null,
            "object_fit": null,
            "object_position": null,
            "order": null,
            "overflow": null,
            "overflow_x": null,
            "overflow_y": null,
            "padding": null,
            "right": null,
            "top": null,
            "visibility": null,
            "width": null
          }
        },
        "e38c6e76628e4a33a5b044ddd03cb625": {
          "model_module": "@jupyter-widgets/controls",
          "model_name": "DescriptionStyleModel",
          "model_module_version": "1.5.0",
          "state": {
            "_model_module": "@jupyter-widgets/controls",
            "_model_module_version": "1.5.0",
            "_model_name": "DescriptionStyleModel",
            "_view_count": null,
            "_view_module": "@jupyter-widgets/base",
            "_view_module_version": "1.2.0",
            "_view_name": "StyleView",
            "description_width": ""
          }
        },
        "499097dededb45d9a2aa90dce813f780": {
          "model_module": "@jupyter-widgets/controls",
          "model_name": "HBoxModel",
          "model_module_version": "1.5.0",
          "state": {
            "_dom_classes": [],
            "_model_module": "@jupyter-widgets/controls",
            "_model_module_version": "1.5.0",
            "_model_name": "HBoxModel",
            "_view_count": null,
            "_view_module": "@jupyter-widgets/controls",
            "_view_module_version": "1.5.0",
            "_view_name": "HBoxView",
            "box_style": "",
            "children": [
              "IPY_MODEL_4befb6ef6bcb4f9fa0085321dc90d69f",
              "IPY_MODEL_db5a551f65a84bd0acd14e09e49fccce",
              "IPY_MODEL_f74ee959390341658bd605a08c0fb2a1"
            ],
            "layout": "IPY_MODEL_0407ee78a8564cee8cd723256a2e9922"
          }
        },
        "4befb6ef6bcb4f9fa0085321dc90d69f": {
          "model_module": "@jupyter-widgets/controls",
          "model_name": "HTMLModel",
          "model_module_version": "1.5.0",
          "state": {
            "_dom_classes": [],
            "_model_module": "@jupyter-widgets/controls",
            "_model_module_version": "1.5.0",
            "_model_name": "HTMLModel",
            "_view_count": null,
            "_view_module": "@jupyter-widgets/controls",
            "_view_module_version": "1.5.0",
            "_view_name": "HTMLView",
            "description": "",
            "description_tooltip": null,
            "layout": "IPY_MODEL_844082f9a2f4456db027c90feaa10227",
            "placeholder": "​",
            "style": "IPY_MODEL_9780c2349660403c8a976f22bf4e23a8",
            "value": "model.safetensors: 100%"
          }
        },
        "db5a551f65a84bd0acd14e09e49fccce": {
          "model_module": "@jupyter-widgets/controls",
          "model_name": "FloatProgressModel",
          "model_module_version": "1.5.0",
          "state": {
            "_dom_classes": [],
            "_model_module": "@jupyter-widgets/controls",
            "_model_module_version": "1.5.0",
            "_model_name": "FloatProgressModel",
            "_view_count": null,
            "_view_module": "@jupyter-widgets/controls",
            "_view_module_version": "1.5.0",
            "_view_name": "ProgressView",
            "bar_style": "success",
            "description": "",
            "description_tooltip": null,
            "layout": "IPY_MODEL_e7a053706dbc43ff9c65da917078e714",
            "max": 440449768,
            "min": 0,
            "orientation": "horizontal",
            "style": "IPY_MODEL_5616c3e6c5d54160827f971f5a20d06a",
            "value": 440449768
          }
        },
        "f74ee959390341658bd605a08c0fb2a1": {
          "model_module": "@jupyter-widgets/controls",
          "model_name": "HTMLModel",
          "model_module_version": "1.5.0",
          "state": {
            "_dom_classes": [],
            "_model_module": "@jupyter-widgets/controls",
            "_model_module_version": "1.5.0",
            "_model_name": "HTMLModel",
            "_view_count": null,
            "_view_module": "@jupyter-widgets/controls",
            "_view_module_version": "1.5.0",
            "_view_name": "HTMLView",
            "description": "",
            "description_tooltip": null,
            "layout": "IPY_MODEL_3d6c23f3ceb74f2e8218c727d6e5ac1e",
            "placeholder": "​",
            "style": "IPY_MODEL_2dee790837954eeda597782b420d32ea",
            "value": " 440M/440M [00:02&lt;00:00, 209MB/s]"
          }
        },
        "0407ee78a8564cee8cd723256a2e9922": {
          "model_module": "@jupyter-widgets/base",
          "model_name": "LayoutModel",
          "model_module_version": "1.2.0",
          "state": {
            "_model_module": "@jupyter-widgets/base",
            "_model_module_version": "1.2.0",
            "_model_name": "LayoutModel",
            "_view_count": null,
            "_view_module": "@jupyter-widgets/base",
            "_view_module_version": "1.2.0",
            "_view_name": "LayoutView",
            "align_content": null,
            "align_items": null,
            "align_self": null,
            "border": null,
            "bottom": null,
            "display": null,
            "flex": null,
            "flex_flow": null,
            "grid_area": null,
            "grid_auto_columns": null,
            "grid_auto_flow": null,
            "grid_auto_rows": null,
            "grid_column": null,
            "grid_gap": null,
            "grid_row": null,
            "grid_template_areas": null,
            "grid_template_columns": null,
            "grid_template_rows": null,
            "height": null,
            "justify_content": null,
            "justify_items": null,
            "left": null,
            "margin": null,
            "max_height": null,
            "max_width": null,
            "min_height": null,
            "min_width": null,
            "object_fit": null,
            "object_position": null,
            "order": null,
            "overflow": null,
            "overflow_x": null,
            "overflow_y": null,
            "padding": null,
            "right": null,
            "top": null,
            "visibility": null,
            "width": null
          }
        },
        "844082f9a2f4456db027c90feaa10227": {
          "model_module": "@jupyter-widgets/base",
          "model_name": "LayoutModel",
          "model_module_version": "1.2.0",
          "state": {
            "_model_module": "@jupyter-widgets/base",
            "_model_module_version": "1.2.0",
            "_model_name": "LayoutModel",
            "_view_count": null,
            "_view_module": "@jupyter-widgets/base",
            "_view_module_version": "1.2.0",
            "_view_name": "LayoutView",
            "align_content": null,
            "align_items": null,
            "align_self": null,
            "border": null,
            "bottom": null,
            "display": null,
            "flex": null,
            "flex_flow": null,
            "grid_area": null,
            "grid_auto_columns": null,
            "grid_auto_flow": null,
            "grid_auto_rows": null,
            "grid_column": null,
            "grid_gap": null,
            "grid_row": null,
            "grid_template_areas": null,
            "grid_template_columns": null,
            "grid_template_rows": null,
            "height": null,
            "justify_content": null,
            "justify_items": null,
            "left": null,
            "margin": null,
            "max_height": null,
            "max_width": null,
            "min_height": null,
            "min_width": null,
            "object_fit": null,
            "object_position": null,
            "order": null,
            "overflow": null,
            "overflow_x": null,
            "overflow_y": null,
            "padding": null,
            "right": null,
            "top": null,
            "visibility": null,
            "width": null
          }
        },
        "9780c2349660403c8a976f22bf4e23a8": {
          "model_module": "@jupyter-widgets/controls",
          "model_name": "DescriptionStyleModel",
          "model_module_version": "1.5.0",
          "state": {
            "_model_module": "@jupyter-widgets/controls",
            "_model_module_version": "1.5.0",
            "_model_name": "DescriptionStyleModel",
            "_view_count": null,
            "_view_module": "@jupyter-widgets/base",
            "_view_module_version": "1.2.0",
            "_view_name": "StyleView",
            "description_width": ""
          }
        },
        "e7a053706dbc43ff9c65da917078e714": {
          "model_module": "@jupyter-widgets/base",
          "model_name": "LayoutModel",
          "model_module_version": "1.2.0",
          "state": {
            "_model_module": "@jupyter-widgets/base",
            "_model_module_version": "1.2.0",
            "_model_name": "LayoutModel",
            "_view_count": null,
            "_view_module": "@jupyter-widgets/base",
            "_view_module_version": "1.2.0",
            "_view_name": "LayoutView",
            "align_content": null,
            "align_items": null,
            "align_self": null,
            "border": null,
            "bottom": null,
            "display": null,
            "flex": null,
            "flex_flow": null,
            "grid_area": null,
            "grid_auto_columns": null,
            "grid_auto_flow": null,
            "grid_auto_rows": null,
            "grid_column": null,
            "grid_gap": null,
            "grid_row": null,
            "grid_template_areas": null,
            "grid_template_columns": null,
            "grid_template_rows": null,
            "height": null,
            "justify_content": null,
            "justify_items": null,
            "left": null,
            "margin": null,
            "max_height": null,
            "max_width": null,
            "min_height": null,
            "min_width": null,
            "object_fit": null,
            "object_position": null,
            "order": null,
            "overflow": null,
            "overflow_x": null,
            "overflow_y": null,
            "padding": null,
            "right": null,
            "top": null,
            "visibility": null,
            "width": null
          }
        },
        "5616c3e6c5d54160827f971f5a20d06a": {
          "model_module": "@jupyter-widgets/controls",
          "model_name": "ProgressStyleModel",
          "model_module_version": "1.5.0",
          "state": {
            "_model_module": "@jupyter-widgets/controls",
            "_model_module_version": "1.5.0",
            "_model_name": "ProgressStyleModel",
            "_view_count": null,
            "_view_module": "@jupyter-widgets/base",
            "_view_module_version": "1.2.0",
            "_view_name": "StyleView",
            "bar_color": null,
            "description_width": ""
          }
        },
        "3d6c23f3ceb74f2e8218c727d6e5ac1e": {
          "model_module": "@jupyter-widgets/base",
          "model_name": "LayoutModel",
          "model_module_version": "1.2.0",
          "state": {
            "_model_module": "@jupyter-widgets/base",
            "_model_module_version": "1.2.0",
            "_model_name": "LayoutModel",
            "_view_count": null,
            "_view_module": "@jupyter-widgets/base",
            "_view_module_version": "1.2.0",
            "_view_name": "LayoutView",
            "align_content": null,
            "align_items": null,
            "align_self": null,
            "border": null,
            "bottom": null,
            "display": null,
            "flex": null,
            "flex_flow": null,
            "grid_area": null,
            "grid_auto_columns": null,
            "grid_auto_flow": null,
            "grid_auto_rows": null,
            "grid_column": null,
            "grid_gap": null,
            "grid_row": null,
            "grid_template_areas": null,
            "grid_template_columns": null,
            "grid_template_rows": null,
            "height": null,
            "justify_content": null,
            "justify_items": null,
            "left": null,
            "margin": null,
            "max_height": null,
            "max_width": null,
            "min_height": null,
            "min_width": null,
            "object_fit": null,
            "object_position": null,
            "order": null,
            "overflow": null,
            "overflow_x": null,
            "overflow_y": null,
            "padding": null,
            "right": null,
            "top": null,
            "visibility": null,
            "width": null
          }
        },
        "2dee790837954eeda597782b420d32ea": {
          "model_module": "@jupyter-widgets/controls",
          "model_name": "DescriptionStyleModel",
          "model_module_version": "1.5.0",
          "state": {
            "_model_module": "@jupyter-widgets/controls",
            "_model_module_version": "1.5.0",
            "_model_name": "DescriptionStyleModel",
            "_view_count": null,
            "_view_module": "@jupyter-widgets/base",
            "_view_module_version": "1.2.0",
            "_view_name": "StyleView",
            "description_width": ""
          }
        }
      }
    }
  },
  "cells": [
    {
      "cell_type": "markdown",
      "metadata": {
        "id": "view-in-github",
        "colab_type": "text"
      },
      "source": [
        "<a href=\"https://colab.research.google.com/github/keethu12345/Predictive_modelling_In_Lung_Cancer/blob/main/Lung_Cancer_Treatment_Response.ipynb\" target=\"_parent\"><img src=\"https://colab.research.google.com/assets/colab-badge.svg\" alt=\"Open In Colab\"/></a>"
      ]
    },
    {
      "cell_type": "markdown",
      "source": [
        "### Installations"
      ],
      "metadata": {
        "id": "8kLpcCPX4Xrl"
      }
    },
    {
      "cell_type": "code",
      "source": [
        "!pip install transformers"
      ],
      "metadata": {
        "colab": {
          "base_uri": "https://localhost:8080/"
        },
        "collapsed": true,
        "id": "7gLQaxjT4ad7",
        "outputId": "f17c1ff6-26ed-48a8-8ce4-8c79ba9bb5af"
      },
      "execution_count": null,
      "outputs": [
        {
          "output_type": "stream",
          "name": "stdout",
          "text": [
            "Requirement already satisfied: transformers in /usr/local/lib/python3.10/dist-packages (4.44.2)\n",
            "Requirement already satisfied: filelock in /usr/local/lib/python3.10/dist-packages (from transformers) (3.16.1)\n",
            "Requirement already satisfied: huggingface-hub<1.0,>=0.23.2 in /usr/local/lib/python3.10/dist-packages (from transformers) (0.24.7)\n",
            "Requirement already satisfied: numpy>=1.17 in /usr/local/lib/python3.10/dist-packages (from transformers) (1.26.4)\n",
            "Requirement already satisfied: packaging>=20.0 in /usr/local/lib/python3.10/dist-packages (from transformers) (24.1)\n",
            "Requirement already satisfied: pyyaml>=5.1 in /usr/local/lib/python3.10/dist-packages (from transformers) (6.0.2)\n",
            "Requirement already satisfied: regex!=2019.12.17 in /usr/local/lib/python3.10/dist-packages (from transformers) (2024.9.11)\n",
            "Requirement already satisfied: requests in /usr/local/lib/python3.10/dist-packages (from transformers) (2.32.3)\n",
            "Requirement already satisfied: safetensors>=0.4.1 in /usr/local/lib/python3.10/dist-packages (from transformers) (0.4.5)\n",
            "Requirement already satisfied: tokenizers<0.20,>=0.19 in /usr/local/lib/python3.10/dist-packages (from transformers) (0.19.1)\n",
            "Requirement already satisfied: tqdm>=4.27 in /usr/local/lib/python3.10/dist-packages (from transformers) (4.66.5)\n",
            "Requirement already satisfied: fsspec>=2023.5.0 in /usr/local/lib/python3.10/dist-packages (from huggingface-hub<1.0,>=0.23.2->transformers) (2024.6.1)\n",
            "Requirement already satisfied: typing-extensions>=3.7.4.3 in /usr/local/lib/python3.10/dist-packages (from huggingface-hub<1.0,>=0.23.2->transformers) (4.12.2)\n",
            "Requirement already satisfied: charset-normalizer<4,>=2 in /usr/local/lib/python3.10/dist-packages (from requests->transformers) (3.4.0)\n",
            "Requirement already satisfied: idna<4,>=2.5 in /usr/local/lib/python3.10/dist-packages (from requests->transformers) (3.10)\n",
            "Requirement already satisfied: urllib3<3,>=1.21.1 in /usr/local/lib/python3.10/dist-packages (from requests->transformers) (2.2.3)\n",
            "Requirement already satisfied: certifi>=2017.4.17 in /usr/local/lib/python3.10/dist-packages (from requests->transformers) (2024.8.30)\n"
          ]
        }
      ]
    },
    {
      "cell_type": "markdown",
      "source": [
        "### Loading the dataset"
      ],
      "metadata": {
        "id": "sNzD9F7p2kaX"
      }
    },
    {
      "cell_type": "code",
      "execution_count": null,
      "metadata": {
        "colab": {
          "base_uri": "https://localhost:8080/",
          "height": 698
        },
        "collapsed": true,
        "id": "E54WWUM4t6i6",
        "outputId": "64e215a4-d76c-47c6-a452-3d3f13ea64ec"
      },
      "outputs": [
        {
          "output_type": "display_data",
          "data": {
            "text/plain": [
              "<IPython.core.display.HTML object>"
            ],
            "text/html": [
              "\n",
              "     <input type=\"file\" id=\"files-7dfd5927-bea4-4649-9b14-6d0e8b38dc02\" name=\"files[]\" multiple disabled\n",
              "        style=\"border:none\" />\n",
              "     <output id=\"result-7dfd5927-bea4-4649-9b14-6d0e8b38dc02\">\n",
              "      Upload widget is only available when the cell has been executed in the\n",
              "      current browser session. Please rerun this cell to enable.\n",
              "      </output>\n",
              "      <script>// Copyright 2017 Google LLC\n",
              "//\n",
              "// Licensed under the Apache License, Version 2.0 (the \"License\");\n",
              "// you may not use this file except in compliance with the License.\n",
              "// You may obtain a copy of the License at\n",
              "//\n",
              "//      http://www.apache.org/licenses/LICENSE-2.0\n",
              "//\n",
              "// Unless required by applicable law or agreed to in writing, software\n",
              "// distributed under the License is distributed on an \"AS IS\" BASIS,\n",
              "// WITHOUT WARRANTIES OR CONDITIONS OF ANY KIND, either express or implied.\n",
              "// See the License for the specific language governing permissions and\n",
              "// limitations under the License.\n",
              "\n",
              "/**\n",
              " * @fileoverview Helpers for google.colab Python module.\n",
              " */\n",
              "(function(scope) {\n",
              "function span(text, styleAttributes = {}) {\n",
              "  const element = document.createElement('span');\n",
              "  element.textContent = text;\n",
              "  for (const key of Object.keys(styleAttributes)) {\n",
              "    element.style[key] = styleAttributes[key];\n",
              "  }\n",
              "  return element;\n",
              "}\n",
              "\n",
              "// Max number of bytes which will be uploaded at a time.\n",
              "const MAX_PAYLOAD_SIZE = 100 * 1024;\n",
              "\n",
              "function _uploadFiles(inputId, outputId) {\n",
              "  const steps = uploadFilesStep(inputId, outputId);\n",
              "  const outputElement = document.getElementById(outputId);\n",
              "  // Cache steps on the outputElement to make it available for the next call\n",
              "  // to uploadFilesContinue from Python.\n",
              "  outputElement.steps = steps;\n",
              "\n",
              "  return _uploadFilesContinue(outputId);\n",
              "}\n",
              "\n",
              "// This is roughly an async generator (not supported in the browser yet),\n",
              "// where there are multiple asynchronous steps and the Python side is going\n",
              "// to poll for completion of each step.\n",
              "// This uses a Promise to block the python side on completion of each step,\n",
              "// then passes the result of the previous step as the input to the next step.\n",
              "function _uploadFilesContinue(outputId) {\n",
              "  const outputElement = document.getElementById(outputId);\n",
              "  const steps = outputElement.steps;\n",
              "\n",
              "  const next = steps.next(outputElement.lastPromiseValue);\n",
              "  return Promise.resolve(next.value.promise).then((value) => {\n",
              "    // Cache the last promise value to make it available to the next\n",
              "    // step of the generator.\n",
              "    outputElement.lastPromiseValue = value;\n",
              "    return next.value.response;\n",
              "  });\n",
              "}\n",
              "\n",
              "/**\n",
              " * Generator function which is called between each async step of the upload\n",
              " * process.\n",
              " * @param {string} inputId Element ID of the input file picker element.\n",
              " * @param {string} outputId Element ID of the output display.\n",
              " * @return {!Iterable<!Object>} Iterable of next steps.\n",
              " */\n",
              "function* uploadFilesStep(inputId, outputId) {\n",
              "  const inputElement = document.getElementById(inputId);\n",
              "  inputElement.disabled = false;\n",
              "\n",
              "  const outputElement = document.getElementById(outputId);\n",
              "  outputElement.innerHTML = '';\n",
              "\n",
              "  const pickedPromise = new Promise((resolve) => {\n",
              "    inputElement.addEventListener('change', (e) => {\n",
              "      resolve(e.target.files);\n",
              "    });\n",
              "  });\n",
              "\n",
              "  const cancel = document.createElement('button');\n",
              "  inputElement.parentElement.appendChild(cancel);\n",
              "  cancel.textContent = 'Cancel upload';\n",
              "  const cancelPromise = new Promise((resolve) => {\n",
              "    cancel.onclick = () => {\n",
              "      resolve(null);\n",
              "    };\n",
              "  });\n",
              "\n",
              "  // Wait for the user to pick the files.\n",
              "  const files = yield {\n",
              "    promise: Promise.race([pickedPromise, cancelPromise]),\n",
              "    response: {\n",
              "      action: 'starting',\n",
              "    }\n",
              "  };\n",
              "\n",
              "  cancel.remove();\n",
              "\n",
              "  // Disable the input element since further picks are not allowed.\n",
              "  inputElement.disabled = true;\n",
              "\n",
              "  if (!files) {\n",
              "    return {\n",
              "      response: {\n",
              "        action: 'complete',\n",
              "      }\n",
              "    };\n",
              "  }\n",
              "\n",
              "  for (const file of files) {\n",
              "    const li = document.createElement('li');\n",
              "    li.append(span(file.name, {fontWeight: 'bold'}));\n",
              "    li.append(span(\n",
              "        `(${file.type || 'n/a'}) - ${file.size} bytes, ` +\n",
              "        `last modified: ${\n",
              "            file.lastModifiedDate ? file.lastModifiedDate.toLocaleDateString() :\n",
              "                                    'n/a'} - `));\n",
              "    const percent = span('0% done');\n",
              "    li.appendChild(percent);\n",
              "\n",
              "    outputElement.appendChild(li);\n",
              "\n",
              "    const fileDataPromise = new Promise((resolve) => {\n",
              "      const reader = new FileReader();\n",
              "      reader.onload = (e) => {\n",
              "        resolve(e.target.result);\n",
              "      };\n",
              "      reader.readAsArrayBuffer(file);\n",
              "    });\n",
              "    // Wait for the data to be ready.\n",
              "    let fileData = yield {\n",
              "      promise: fileDataPromise,\n",
              "      response: {\n",
              "        action: 'continue',\n",
              "      }\n",
              "    };\n",
              "\n",
              "    // Use a chunked sending to avoid message size limits. See b/62115660.\n",
              "    let position = 0;\n",
              "    do {\n",
              "      const length = Math.min(fileData.byteLength - position, MAX_PAYLOAD_SIZE);\n",
              "      const chunk = new Uint8Array(fileData, position, length);\n",
              "      position += length;\n",
              "\n",
              "      const base64 = btoa(String.fromCharCode.apply(null, chunk));\n",
              "      yield {\n",
              "        response: {\n",
              "          action: 'append',\n",
              "          file: file.name,\n",
              "          data: base64,\n",
              "        },\n",
              "      };\n",
              "\n",
              "      let percentDone = fileData.byteLength === 0 ?\n",
              "          100 :\n",
              "          Math.round((position / fileData.byteLength) * 100);\n",
              "      percent.textContent = `${percentDone}% done`;\n",
              "\n",
              "    } while (position < fileData.byteLength);\n",
              "  }\n",
              "\n",
              "  // All done.\n",
              "  yield {\n",
              "    response: {\n",
              "      action: 'complete',\n",
              "    }\n",
              "  };\n",
              "}\n",
              "\n",
              "scope.google = scope.google || {};\n",
              "scope.google.colab = scope.google.colab || {};\n",
              "scope.google.colab._files = {\n",
              "  _uploadFiles,\n",
              "  _uploadFilesContinue,\n",
              "};\n",
              "})(self);\n",
              "</script> "
            ]
          },
          "metadata": {}
        },
        {
          "output_type": "stream",
          "name": "stdout",
          "text": [
            "Saving lung_cancer_data.csv to lung_cancer_data.csv\n",
            "    Patient_ID  Age  Gender Smoking_History  Tumor_Size_mm Tumor_Location  \\\n",
            "0  Patient0000   68    Male  Current Smoker      81.678677     Lower Lobe   \n",
            "1  Patient0001   58    Male    Never Smoked      78.448272     Lower Lobe   \n",
            "2  Patient0002   44    Male   Former Smoker      67.714305     Lower Lobe   \n",
            "3  Patient0003   72    Male  Current Smoker      70.806008     Lower Lobe   \n",
            "4  Patient0004   37  Female    Never Smoked      87.272433     Lower Lobe   \n",
            "\n",
            "       Stage          Treatment  Survival_Months         Ethnicity  ...  \\\n",
            "0  Stage III            Surgery               44          Hispanic  ...   \n",
            "1    Stage I  Radiation Therapy              101         Caucasian  ...   \n",
            "2    Stage I       Chemotherapy               69  African American  ...   \n",
            "3  Stage III       Chemotherapy               95  African American  ...   \n",
            "4   Stage IV  Radiation Therapy              105             Asian  ...   \n",
            "\n",
            "  Alanine_Aminotransferase_Level Aspartate_Aminotransferase_Level  \\\n",
            "0                      27.985571                        46.801214   \n",
            "1                      30.120956                        39.711531   \n",
            "2                       5.882418                        32.640602   \n",
            "3                      38.908154                        44.319393   \n",
            "4                      26.344877                        15.746906   \n",
            "\n",
            "  Creatinine_Level   LDH_Level Calcium_Level Phosphorus_Level Glucose_Level  \\\n",
            "0         1.245849  239.240255     10.366307         3.547734    113.919242   \n",
            "1         1.463231  233.515237     10.081731         2.945020    101.321578   \n",
            "2         0.630109  169.037460      8.660892         4.637399     78.214177   \n",
            "3         0.594342  213.967590      8.832669         3.617098    127.895361   \n",
            "4         1.478239  118.187543      9.247609         4.773255    148.801185   \n",
            "\n",
            "  Potassium_Level Sodium_Level  Smoking_Pack_Years  \n",
            "0        4.968163   139.822861           17.006956  \n",
            "1        3.896795   135.449361           93.270893  \n",
            "2        4.369050   143.377155           70.348376  \n",
            "3        4.348474   138.586005           19.828128  \n",
            "4        3.671976   141.230724           81.047456  \n",
            "\n",
            "[5 rows x 38 columns]\n"
          ]
        }
      ],
      "source": [
        "from google.colab import files\n",
        "\n",
        "# Upload the dataset file\n",
        "uploaded = files.upload()\n",
        "\n",
        "# Once uploaded, you can load it into a DataFrame\n",
        "import pandas as pd\n",
        "\n",
        "# Load the dataset\n",
        "lung_cancer_data = pd.read_csv('lung_cancer_data.csv')  # Use the filename as needed\n",
        "print(lung_cancer_data.head())  # Display the first few rows of the dataset\n"
      ]
    },
    {
      "cell_type": "markdown",
      "source": [
        "### Exploratory Data Analysis and Pre-processing"
      ],
      "metadata": {
        "id": "xNsFBFh82oS1"
      }
    },
    {
      "cell_type": "code",
      "source": [
        "# Check the shape and info of the dataset\n",
        "print(f\"Dataset shape: {lung_cancer_data.shape}\")\n",
        "print(lung_cancer_data.info())  # Get a summary of the dataset\n",
        "\n",
        "# Display basic statistics\n",
        "print(lung_cancer_data.describe())\n",
        "\n",
        "# Check for missing values\n",
        "missing_values = lung_cancer_data.isnull().sum()\n",
        "print(\"Missing values in each column:\\n\", missing_values[missing_values > 0])\n",
        "\n",
        "# Visualize the distribution of the target variable if applicable\n",
        "import seaborn as sns\n",
        "import matplotlib.pyplot as plt\n",
        "\n",
        "# Define treatment response based on Survival_Months\n",
        "threshold = 12  # Define the threshold for response\n",
        "lung_cancer_data['Treatment_Response'] = (lung_cancer_data['Survival_Months'] > threshold).astype(int)\n",
        "\n",
        "# Display the updated dataset with the new Treatment_Response column\n",
        "print(lung_cancer_data[['Survival_Months', 'Treatment_Response']].head())\n"
      ],
      "metadata": {
        "colab": {
          "base_uri": "https://localhost:8080/"
        },
        "collapsed": true,
        "id": "TYVpT2Y52rGX",
        "outputId": "d7662112-299a-49cf-c121-6d1f0cb4ee8a"
      },
      "execution_count": null,
      "outputs": [
        {
          "output_type": "stream",
          "name": "stdout",
          "text": [
            "Dataset shape: (23658, 38)\n",
            "<class 'pandas.core.frame.DataFrame'>\n",
            "RangeIndex: 23658 entries, 0 to 23657\n",
            "Data columns (total 38 columns):\n",
            " #   Column                            Non-Null Count  Dtype  \n",
            "---  ------                            --------------  -----  \n",
            " 0   Patient_ID                        23658 non-null  object \n",
            " 1   Age                               23658 non-null  int64  \n",
            " 2   Gender                            23658 non-null  object \n",
            " 3   Smoking_History                   23658 non-null  object \n",
            " 4   Tumor_Size_mm                     23658 non-null  float64\n",
            " 5   Tumor_Location                    23658 non-null  object \n",
            " 6   Stage                             23658 non-null  object \n",
            " 7   Treatment                         23658 non-null  object \n",
            " 8   Survival_Months                   23658 non-null  int64  \n",
            " 9   Ethnicity                         23658 non-null  object \n",
            " 10  Insurance_Type                    23658 non-null  object \n",
            " 11  Family_History                    23658 non-null  object \n",
            " 12  Comorbidity_Diabetes              23658 non-null  object \n",
            " 13  Comorbidity_Hypertension          23658 non-null  object \n",
            " 14  Comorbidity_Heart_Disease         23658 non-null  object \n",
            " 15  Comorbidity_Chronic_Lung_Disease  23658 non-null  object \n",
            " 16  Comorbidity_Kidney_Disease        23658 non-null  object \n",
            " 17  Comorbidity_Autoimmune_Disease    23658 non-null  object \n",
            " 18  Comorbidity_Other                 23658 non-null  object \n",
            " 19  Performance_Status                23658 non-null  int64  \n",
            " 20  Blood_Pressure_Systolic           23658 non-null  int64  \n",
            " 21  Blood_Pressure_Diastolic          23658 non-null  int64  \n",
            " 22  Blood_Pressure_Pulse              23658 non-null  int64  \n",
            " 23  Hemoglobin_Level                  23658 non-null  float64\n",
            " 24  White_Blood_Cell_Count            23658 non-null  float64\n",
            " 25  Platelet_Count                    23658 non-null  float64\n",
            " 26  Albumin_Level                     23658 non-null  float64\n",
            " 27  Alkaline_Phosphatase_Level        23658 non-null  float64\n",
            " 28  Alanine_Aminotransferase_Level    23658 non-null  float64\n",
            " 29  Aspartate_Aminotransferase_Level  23658 non-null  float64\n",
            " 30  Creatinine_Level                  23658 non-null  float64\n",
            " 31  LDH_Level                         23658 non-null  float64\n",
            " 32  Calcium_Level                     23658 non-null  float64\n",
            " 33  Phosphorus_Level                  23658 non-null  float64\n",
            " 34  Glucose_Level                     23658 non-null  float64\n",
            " 35  Potassium_Level                   23658 non-null  float64\n",
            " 36  Sodium_Level                      23658 non-null  float64\n",
            " 37  Smoking_Pack_Years                23658 non-null  float64\n",
            "dtypes: float64(16), int64(6), object(16)\n",
            "memory usage: 6.9+ MB\n",
            "None\n",
            "                Age  Tumor_Size_mm  Survival_Months  Performance_Status  \\\n",
            "count  23658.000000   23658.000000     23658.000000        23658.000000   \n",
            "mean      54.439344      55.383736        59.863809            1.999915   \n",
            "std       14.396386      26.004354        34.246042            1.413675   \n",
            "min       30.000000      10.004279         1.000000            0.000000   \n",
            "25%       42.000000      32.972797        30.000000            1.000000   \n",
            "50%       54.000000      55.296297        60.000000            2.000000   \n",
            "75%       67.000000      78.190014        89.000000            3.000000   \n",
            "max       79.000000      99.990554       119.000000            4.000000   \n",
            "\n",
            "       Blood_Pressure_Systolic  Blood_Pressure_Diastolic  \\\n",
            "count             23658.000000              23658.000000   \n",
            "mean                134.462381                 84.475780   \n",
            "std                  26.020492                 14.409826   \n",
            "min                  90.000000                 60.000000   \n",
            "25%                 112.000000                 72.000000   \n",
            "50%                 134.000000                 85.000000   \n",
            "75%                 157.000000                 97.000000   \n",
            "max                 179.000000                109.000000   \n",
            "\n",
            "       Blood_Pressure_Pulse  Hemoglobin_Level  White_Blood_Cell_Count  \\\n",
            "count          23658.000000      23658.000000            23658.000000   \n",
            "mean              79.585299         14.000137                6.735637   \n",
            "std               11.546690          2.301411                1.879292   \n",
            "min               60.000000         10.000070                3.501213   \n",
            "25%               70.000000         11.990625                5.108723   \n",
            "50%               80.000000         13.983383                6.729774   \n",
            "75%               90.000000         15.999260                8.353701   \n",
            "max               99.000000         17.999957                9.999535   \n",
            "\n",
            "       Platelet_Count  ...  Alanine_Aminotransferase_Level  \\\n",
            "count    23658.000000  ...                    23658.000000   \n",
            "mean       299.867482  ...                       22.504677   \n",
            "std         86.897568  ...                       10.047864   \n",
            "min        150.017892  ...                        5.001090   \n",
            "25%        224.884576  ...                       13.816180   \n",
            "50%        299.933444  ...                       22.547943   \n",
            "75%        375.437029  ...                       31.092935   \n",
            "max        449.974734  ...                       39.999543   \n",
            "\n",
            "       Aspartate_Aminotransferase_Level  Creatinine_Level     LDH_Level  \\\n",
            "count                      23658.000000      23658.000000  23658.000000   \n",
            "mean                          30.133226          0.999459    174.734575   \n",
            "std                           11.560915          0.287517     43.230997   \n",
            "min                           10.000860          0.500001    100.002721   \n",
            "25%                           20.065339          0.748845    137.444977   \n",
            "50%                           30.271772          1.001183    174.390634   \n",
            "75%                           40.107488          1.249173    212.228273   \n",
            "max                           49.998571          1.499998    249.996391   \n",
            "\n",
            "       Calcium_Level  Phosphorus_Level  Glucose_Level  Potassium_Level  \\\n",
            "count   23658.000000      23658.000000   23658.000000     23658.000000   \n",
            "mean        9.261114          3.742771     109.895553         4.245646   \n",
            "std         0.719875          0.721708      23.109136         0.431968   \n",
            "min         8.000018          2.500069      70.000420         3.500034   \n",
            "25%         8.640877          3.120107      89.828616         3.871842   \n",
            "50%         9.259304          3.730837     109.949488         4.242236   \n",
            "75%         9.883248          4.364422     130.061977         4.618318   \n",
            "max        10.499913          4.999974     149.997056         4.999954   \n",
            "\n",
            "       Sodium_Level  Smoking_Pack_Years  \n",
            "count  23658.000000        23658.000000  \n",
            "mean     140.028215           49.913594  \n",
            "std        2.894568           28.870940  \n",
            "min      135.000934            0.016800  \n",
            "25%      137.540078           25.026793  \n",
            "50%      140.002209           49.926220  \n",
            "75%      142.541883           74.924580  \n",
            "max      144.999869           99.999493  \n",
            "\n",
            "[8 rows x 22 columns]\n",
            "Missing values in each column:\n",
            " Series([], dtype: int64)\n",
            "   Survival_Months  Treatment_Response\n",
            "0               44                   1\n",
            "1              101                   1\n",
            "2               69                   1\n",
            "3               95                   1\n",
            "4              105                   1\n"
          ]
        }
      ]
    },
    {
      "cell_type": "code",
      "source": [
        "from sklearn.preprocessing import OneHotEncoder\n",
        "from sklearn.impute import SimpleImputer\n",
        "from sklearn.preprocessing import StandardScaler\n",
        "from sklearn.compose import ColumnTransformer\n",
        "from sklearn.pipeline import Pipeline\n",
        "\n",
        "# Identify numerical and categorical features\n",
        "numerical_features = [\n",
        "    'Age', 'Tumor_Size_mm', 'Performance_Status',\n",
        "    'Blood_Pressure_Systolic', 'Blood_Pressure_Diastolic',\n",
        "    'Blood_Pressure_Pulse', 'Hemoglobin_Level',\n",
        "    'White_Blood_Cell_Count', 'Platelet_Count',\n",
        "    'Albumin_Level', 'Alkaline_Phosphatase_Level',\n",
        "    'Alanine_Aminotransferase_Level', 'Aspartate_Aminotransferase_Level',\n",
        "    'Creatinine_Level', 'LDH_Level', 'Calcium_Level',\n",
        "    'Phosphorus_Level', 'Glucose_Level', 'Potassium_Level',\n",
        "    'Sodium_Level', 'Smoking_Pack_Years'\n",
        "]\n",
        "\n",
        "categorical_features = [\n",
        "    'Gender', 'Smoking_History', 'Tumor_Location',\n",
        "    'Stage', 'Treatment', 'Ethnicity', 'Insurance_Type',\n",
        "    'Family_History', 'Comorbidity_Diabetes', 'Comorbidity_Hypertension',\n",
        "    'Comorbidity_Heart_Disease', 'Comorbidity_Chronic_Lung_Disease',\n",
        "    'Comorbidity_Kidney_Disease', 'Comorbidity_Autoimmune_Disease',\n",
        "    'Comorbidity_Other'\n",
        "]\n",
        "\n",
        "# Create transformers for preprocessing\n",
        "numeric_transformer = Pipeline(steps=[\n",
        "    ('imputer', SimpleImputer(strategy='mean')),\n",
        "    ('scaler', StandardScaler())\n",
        "])\n",
        "\n",
        "categorical_transformer = Pipeline(steps=[\n",
        "    ('imputer', SimpleImputer(strategy='most_frequent')),\n",
        "    ('onehot', OneHotEncoder(handle_unknown='ignore', drop='first'))\n",
        "])\n",
        "\n",
        "# Combine transformers into a single ColumnTransformer\n",
        "preprocessor = ColumnTransformer(\n",
        "    transformers=[\n",
        "        ('num', numeric_transformer, numerical_features),\n",
        "        ('cat', categorical_transformer, categorical_features)\n",
        "    ]\n",
        ")\n",
        "\n",
        "# Separate features and target variable\n",
        "X = lung_cancer_data.drop(columns=['Patient_ID', 'Survival_Months', 'Treatment_Response'])\n",
        "y = lung_cancer_data['Treatment_Response']\n",
        "\n",
        "# Fit and transform the features using the preprocessor\n",
        "X_preprocessed = preprocessor.fit_transform(X)\n",
        "\n",
        "# Check the shape of the preprocessed features\n",
        "print(\"Shape of preprocessed features:\", X_preprocessed.shape)"
      ],
      "metadata": {
        "colab": {
          "base_uri": "https://localhost:8080/"
        },
        "collapsed": true,
        "id": "uthnEtSG3751",
        "outputId": "7d374a88-fecd-4972-a4ab-6001e4653245"
      },
      "execution_count": null,
      "outputs": [
        {
          "output_type": "stream",
          "name": "stdout",
          "text": [
            "Shape of preprocessed features: (23658, 47)\n"
          ]
        }
      ]
    },
    {
      "cell_type": "markdown",
      "source": [
        "### Splitting the Dataset"
      ],
      "metadata": {
        "id": "17n1SWtF4I88"
      }
    },
    {
      "cell_type": "code",
      "source": [
        "from sklearn.model_selection import train_test_split\n",
        "\n",
        "# Split the dataset into training and testing sets (70% train, 30% test)\n",
        "X_train, X_test, y_train, y_test = train_test_split(\n",
        "    X_preprocessed,\n",
        "    y,\n",
        "    test_size=0.3,\n",
        "    random_state=42,\n",
        "    stratify=y  # Stratifying ensures the same distribution of classes in both sets\n",
        ")\n",
        "\n",
        "# Display the shapes of the resulting datasets\n",
        "print(f\"Training feature set shape: {X_train.shape}\")\n",
        "print(f\"Testing feature set shape: {X_test.shape}\")\n",
        "print(f\"Training labels shape: {y_train.shape}\")\n",
        "print(f\"Testing labels shape: {y_test.shape}\")"
      ],
      "metadata": {
        "colab": {
          "base_uri": "https://localhost:8080/"
        },
        "collapsed": true,
        "id": "gbe9faGY4IZz",
        "outputId": "6618a9cd-7d67-4f2d-f09b-d3da2cfd21d9"
      },
      "execution_count": null,
      "outputs": [
        {
          "output_type": "stream",
          "name": "stdout",
          "text": [
            "Training feature set shape: (16560, 47)\n",
            "Testing feature set shape: (7098, 47)\n",
            "Training labels shape: (16560,)\n",
            "Testing labels shape: (7098,)\n"
          ]
        }
      ]
    },
    {
      "cell_type": "markdown",
      "source": [
        "### Building the Multimodel Transformer"
      ],
      "metadata": {
        "id": "YMUgjG314gnV"
      }
    },
    {
      "cell_type": "code",
      "source": [
        "import torch\n",
        "from torch import nn\n",
        "from transformers import BertModel\n",
        "\n",
        "# Define a custom multimodal transformer model\n",
        "class MultimodalTransformer(nn.Module):\n",
        "    def __init__(self, num_tabular_features):\n",
        "        super(MultimodalTransformer, self).__init__()\n",
        "        self.bert = BertModel.from_pretrained('bert-base-uncased')\n",
        "        self.fc1 = nn.Linear(768 + num_tabular_features, 128)  # 768 is BERT output size\n",
        "        self.fc2 = nn.Linear(128, 1)  # Binary classification for treatment response\n",
        "\n",
        "    def forward(self, text_input, tabular_input):\n",
        "        bert_output = self.bert(text_input).pooler_output  # Get the pooled output\n",
        "        combined = torch.cat((bert_output, tabular_input), dim=1)  # Concatenate BERT output with tabular input\n",
        "        x = nn.functional.relu(self.fc1(combined))\n",
        "        return torch.sigmoid(self.fc2(x))  # Sigmoid for binary classification\n",
        "\n",
        "# Initialize the model, specifying the number of tabular features\n",
        "model = MultimodalTransformer(num_tabular_features=X_train.shape[1])\n",
        "\n",
        "# Check the model architecture\n",
        "print(model)"
      ],
      "metadata": {
        "colab": {
          "base_uri": "https://localhost:8080/",
          "height": 986,
          "referenced_widgets": [
            "9af211496bfe431bbf543e43e986c067",
            "3ab22eea187d4da6b82c9293d23de169",
            "9b0cfec2f74f4eb8850303b1ec544125",
            "dea8d78d9b4643f19f8062b87152fe42",
            "e5fd3033da4841299c3c6e13a4b5165d",
            "c48f4fd25eb64576a9a5af13347cd5c8",
            "fd25275a6f1043008f32212c17ab4af3",
            "545c912103be40298ebdc6d7b1b0dda5",
            "7511084e9fc749a59fa4b218835cf000",
            "0d00c14c32a64663b6d666196c559988",
            "e38c6e76628e4a33a5b044ddd03cb625",
            "499097dededb45d9a2aa90dce813f780",
            "4befb6ef6bcb4f9fa0085321dc90d69f",
            "db5a551f65a84bd0acd14e09e49fccce",
            "f74ee959390341658bd605a08c0fb2a1",
            "0407ee78a8564cee8cd723256a2e9922",
            "844082f9a2f4456db027c90feaa10227",
            "9780c2349660403c8a976f22bf4e23a8",
            "e7a053706dbc43ff9c65da917078e714",
            "5616c3e6c5d54160827f971f5a20d06a",
            "3d6c23f3ceb74f2e8218c727d6e5ac1e",
            "2dee790837954eeda597782b420d32ea"
          ]
        },
        "collapsed": true,
        "id": "dNfeVWfX4epU",
        "outputId": "88f8047f-a6e7-45e0-ee74-f11afd9df352"
      },
      "execution_count": null,
      "outputs": [
        {
          "output_type": "stream",
          "name": "stderr",
          "text": [
            "/usr/local/lib/python3.10/dist-packages/huggingface_hub/utils/_token.py:89: UserWarning: \n",
            "The secret `HF_TOKEN` does not exist in your Colab secrets.\n",
            "To authenticate with the Hugging Face Hub, create a token in your settings tab (https://huggingface.co/settings/tokens), set it as secret in your Google Colab and restart your session.\n",
            "You will be able to reuse this secret in all of your notebooks.\n",
            "Please note that authentication is recommended but still optional to access public models or datasets.\n",
            "  warnings.warn(\n"
          ]
        },
        {
          "output_type": "display_data",
          "data": {
            "text/plain": [
              "config.json:   0%|          | 0.00/570 [00:00<?, ?B/s]"
            ],
            "application/vnd.jupyter.widget-view+json": {
              "version_major": 2,
              "version_minor": 0,
              "model_id": "9af211496bfe431bbf543e43e986c067"
            }
          },
          "metadata": {}
        },
        {
          "output_type": "display_data",
          "data": {
            "text/plain": [
              "model.safetensors:   0%|          | 0.00/440M [00:00<?, ?B/s]"
            ],
            "application/vnd.jupyter.widget-view+json": {
              "version_major": 2,
              "version_minor": 0,
              "model_id": "499097dededb45d9a2aa90dce813f780"
            }
          },
          "metadata": {}
        },
        {
          "output_type": "stream",
          "name": "stdout",
          "text": [
            "MultimodalTransformer(\n",
            "  (bert): BertModel(\n",
            "    (embeddings): BertEmbeddings(\n",
            "      (word_embeddings): Embedding(30522, 768, padding_idx=0)\n",
            "      (position_embeddings): Embedding(512, 768)\n",
            "      (token_type_embeddings): Embedding(2, 768)\n",
            "      (LayerNorm): LayerNorm((768,), eps=1e-12, elementwise_affine=True)\n",
            "      (dropout): Dropout(p=0.1, inplace=False)\n",
            "    )\n",
            "    (encoder): BertEncoder(\n",
            "      (layer): ModuleList(\n",
            "        (0-11): 12 x BertLayer(\n",
            "          (attention): BertAttention(\n",
            "            (self): BertSdpaSelfAttention(\n",
            "              (query): Linear(in_features=768, out_features=768, bias=True)\n",
            "              (key): Linear(in_features=768, out_features=768, bias=True)\n",
            "              (value): Linear(in_features=768, out_features=768, bias=True)\n",
            "              (dropout): Dropout(p=0.1, inplace=False)\n",
            "            )\n",
            "            (output): BertSelfOutput(\n",
            "              (dense): Linear(in_features=768, out_features=768, bias=True)\n",
            "              (LayerNorm): LayerNorm((768,), eps=1e-12, elementwise_affine=True)\n",
            "              (dropout): Dropout(p=0.1, inplace=False)\n",
            "            )\n",
            "          )\n",
            "          (intermediate): BertIntermediate(\n",
            "            (dense): Linear(in_features=768, out_features=3072, bias=True)\n",
            "            (intermediate_act_fn): GELUActivation()\n",
            "          )\n",
            "          (output): BertOutput(\n",
            "            (dense): Linear(in_features=3072, out_features=768, bias=True)\n",
            "            (LayerNorm): LayerNorm((768,), eps=1e-12, elementwise_affine=True)\n",
            "            (dropout): Dropout(p=0.1, inplace=False)\n",
            "          )\n",
            "        )\n",
            "      )\n",
            "    )\n",
            "    (pooler): BertPooler(\n",
            "      (dense): Linear(in_features=768, out_features=768, bias=True)\n",
            "      (activation): Tanh()\n",
            "    )\n",
            "  )\n",
            "  (fc1): Linear(in_features=815, out_features=128, bias=True)\n",
            "  (fc2): Linear(in_features=128, out_features=1, bias=True)\n",
            ")\n"
          ]
        }
      ]
    },
    {
      "cell_type": "markdown",
      "source": [
        "### Preparing the Data Loaders"
      ],
      "metadata": {
        "id": "tb8NEWwO4ykL"
      }
    },
    {
      "cell_type": "code",
      "source": [
        "from torch.utils.data import DataLoader, TensorDataset\n",
        "\n",
        "# Convert training and testing data to PyTorch tensors\n",
        "X_train_tensor = torch.tensor(X_train, dtype=torch.float32)\n",
        "y_train_tensor = torch.tensor(y_train.values, dtype=torch.float32)\n",
        "X_test_tensor = torch.tensor(X_test, dtype=torch.float32)\n",
        "y_test_tensor = torch.tensor(y_test.values, dtype=torch.float32)\n",
        "\n",
        "# Create TensorDatasets\n",
        "train_dataset = TensorDataset(X_train_tensor, y_train_tensor)\n",
        "test_dataset = TensorDataset(X_test_tensor, y_test_tensor)\n",
        "\n",
        "# Create DataLoaders\n",
        "train_loader = DataLoader(train_dataset, batch_size=32, shuffle=True)\n",
        "test_loader = DataLoader(test_dataset, batch_size=32, shuffle=False)\n",
        "\n",
        "# Check the number of batches in the training loader\n",
        "print(f'Number of batches in training data: {len(train_loader)}')\n",
        "print(f'Number of batches in testing data: {len(test_loader)}')"
      ],
      "metadata": {
        "colab": {
          "base_uri": "https://localhost:8080/"
        },
        "collapsed": true,
        "id": "4vVdCf5p41Er",
        "outputId": "8d570f5b-7328-447d-e06d-ca032348a3de"
      },
      "execution_count": null,
      "outputs": [
        {
          "output_type": "stream",
          "name": "stdout",
          "text": [
            "Number of batches in training data: 518\n",
            "Number of batches in testing data: 222\n"
          ]
        }
      ]
    },
    {
      "cell_type": "markdown",
      "source": [
        "### Training the model"
      ],
      "metadata": {
        "id": "V6poOYEk4-Iz"
      }
    },
    {
      "cell_type": "code",
      "source": [
        "import torch\n",
        "from torch import nn\n",
        "import torch.nn.functional as F\n",
        "\n",
        "# Define a custom transformer model specifically for tabular data\n",
        "class TabularTransformer(nn.Module):\n",
        "    def __init__(self, num_tabular_features):\n",
        "        super(TabularTransformer, self).__init__()\n",
        "        self.fc1 = nn.Linear(num_tabular_features, 128)  # First layer for tabular input\n",
        "        self.fc2 = nn.Linear(128, 1)  # Output layer for binary classification\n",
        "\n",
        "    def forward(self, tabular_input):\n",
        "        x = F.relu(self.fc1(tabular_input))  # Forward pass through the first layer\n",
        "        return torch.sigmoid(self.fc2(x))  # Sigmoid for binary classification\n",
        "\n",
        "# Initialize the model\n",
        "model = TabularTransformer(num_tabular_features=X_train.shape[1])\n",
        "\n",
        "# Define the optimizer and loss function\n",
        "optimizer = torch.optim.Adam(model.parameters(), lr=learning_rate)\n",
        "criterion = nn.BCELoss()  # Binary cross-entropy loss for binary classification\n",
        "\n",
        "# Training loop\n",
        "model.train()  # Set the model to training mode\n",
        "for epoch in range(num_epochs):\n",
        "    epoch_loss = 0.0\n",
        "    for batch in train_loader:\n",
        "        tabular_input, labels = batch\n",
        "\n",
        "        # Forward pass\n",
        "        optimizer.zero_grad()\n",
        "        output = model(tabular_input)  # Only passing tabular_input\n",
        "        loss = criterion(output.squeeze(), labels)\n",
        "\n",
        "        # Backward pass and optimization\n",
        "        loss.backward()\n",
        "        optimizer.step()\n",
        "\n",
        "        epoch_loss += loss.item()\n",
        "\n",
        "    print(f'Epoch [{epoch + 1}/{num_epochs}], Loss: {epoch_loss / len(train_loader):.4f}')\n",
        "\n",
        "# Save the trained model (optional)\n",
        "torch.save(model.state_dict(), 'tabular_transformer_model.pth')\n"
      ],
      "metadata": {
        "colab": {
          "base_uri": "https://localhost:8080/"
        },
        "collapsed": true,
        "id": "q7vh1RER4_6r",
        "outputId": "75ba26ca-a399-49ec-a506-30eacff9a840"
      },
      "execution_count": null,
      "outputs": [
        {
          "output_type": "stream",
          "name": "stdout",
          "text": [
            "Epoch [1/10], Loss: 0.6133\n",
            "Epoch [2/10], Loss: 0.5320\n",
            "Epoch [3/10], Loss: 0.4681\n",
            "Epoch [4/10], Loss: 0.4195\n",
            "Epoch [5/10], Loss: 0.3847\n",
            "Epoch [6/10], Loss: 0.3615\n",
            "Epoch [7/10], Loss: 0.3471\n",
            "Epoch [8/10], Loss: 0.3387\n",
            "Epoch [9/10], Loss: 0.3341\n",
            "Epoch [10/10], Loss: 0.3318\n"
          ]
        }
      ]
    },
    {
      "cell_type": "markdown",
      "source": [
        "### Evaluating the model"
      ],
      "metadata": {
        "id": "VbpmJCu75WNJ"
      }
    },
    {
      "cell_type": "code",
      "source": [
        "import numpy as np\n",
        "from sklearn.metrics import accuracy_score, precision_score, recall_score, f1_score, roc_auc_score\n",
        "\n",
        "# Set the model to evaluation mode\n",
        "model.eval()\n",
        "\n",
        "# Initialize lists to store predictions, true labels, and probabilities\n",
        "all_predictions = []\n",
        "all_labels = []\n",
        "all_probs = []\n",
        "\n",
        "# Disable gradient calculation for evaluation\n",
        "with torch.no_grad():\n",
        "    for batch in test_loader:\n",
        "        tabular_input, labels = batch\n",
        "        output = model(tabular_input)  # Get model predictions\n",
        "        predicted_classes = (output.squeeze() > 0.5).int()  # Apply threshold for binary classification\n",
        "\n",
        "        all_predictions.extend(predicted_classes.numpy())\n",
        "        all_labels.extend(labels.numpy())\n",
        "        all_probs.extend(output.squeeze().numpy())  # Collect probabilities for ROC AUC\n",
        "\n",
        "# Convert lists to numpy arrays for metric calculations\n",
        "all_predictions = np.array(all_predictions)\n",
        "all_labels = np.array(all_labels)\n",
        "all_probs = np.array(all_probs)\n",
        "\n",
        "# Calculate metrics\n",
        "accuracy = accuracy_score(all_labels, all_predictions)\n",
        "precision = precision_score(all_labels, all_predictions)\n",
        "recall = recall_score(all_labels, all_predictions)\n",
        "f1 = f1_score(all_labels, all_predictions)\n",
        "roc_auc = roc_auc_score(all_labels, all_probs)  # Use probabilities here\n",
        "\n",
        "# Print evaluation metrics\n",
        "print(f'Accuracy: {accuracy:.4f}')\n",
        "print(f'Precision: {precision:.4f}')\n",
        "print(f'Recall: {recall:.4f}')\n",
        "print(f'F1 Score: {f1:.4f}')\n",
        "print(f'ROC AUC Score: {roc_auc:.4f}')"
      ],
      "metadata": {
        "colab": {
          "base_uri": "https://localhost:8080/"
        },
        "collapsed": true,
        "id": "ZNiX0gBI5VjY",
        "outputId": "d678d055-21e5-48e9-b4d7-46a15ec014db"
      },
      "execution_count": null,
      "outputs": [
        {
          "output_type": "stream",
          "name": "stdout",
          "text": [
            "Accuracy: 0.8998\n",
            "Precision: 0.8998\n",
            "Recall: 1.0000\n",
            "F1 Score: 0.9473\n",
            "ROC AUC Score: 0.4909\n"
          ]
        }
      ]
    },
    {
      "cell_type": "markdown",
      "source": [
        "### Visualizations"
      ],
      "metadata": {
        "id": "wxVH3adQ6yzP"
      }
    },
    {
      "cell_type": "code",
      "source": [
        "#Confusion Matrix Visualization\n",
        "import seaborn as sns\n",
        "import matplotlib.pyplot as plt\n",
        "from sklearn.metrics import confusion_matrix\n",
        "\n",
        "# Create confusion matrix\n",
        "cm = confusion_matrix(all_labels, all_predictions)\n",
        "\n",
        "# Plot confusion matrix\n",
        "plt.figure(figsize=(8, 6))\n",
        "sns.heatmap(cm, annot=True, fmt='d', cmap='Blues',\n",
        "            xticklabels=['No Response (0)', 'Response (1)'],\n",
        "            yticklabels=['No Response (0)', 'Response (1)'])\n",
        "plt.title('Confusion Matrix')\n",
        "plt.ylabel('True Label')\n",
        "plt.xlabel('Predicted Label')\n",
        "plt.show()"
      ],
      "metadata": {
        "colab": {
          "base_uri": "https://localhost:8080/",
          "height": 564
        },
        "collapsed": true,
        "id": "SZqzqgdF60pg",
        "outputId": "ab73df0f-e197-4f67-e9b7-099c7cedd819"
      },
      "execution_count": null,
      "outputs": [
        {
          "output_type": "display_data",
          "data": {
            "text/plain": [
              "<Figure size 800x600 with 2 Axes>"
            ],
            "image/png": "[encoded data removed]"
          },
          "metadata": {}
        }
      ]
    },
    {
      "cell_type": "code",
      "source": [
        "# ROC Curve Visualization\n",
        "from sklearn.metrics import roc_curve\n",
        "\n",
        "# Calculate ROC curve\n",
        "fpr, tpr, thresholds = roc_curve(all_labels, all_probs)\n",
        "\n",
        "# Plot ROC curve\n",
        "plt.figure(figsize=(8, 6))\n",
        "plt.plot(fpr, tpr, color='blue', label='ROC curve (area = {:.2f})'.format(roc_auc))\n",
        "plt.plot([0, 1], [0, 1], color='red', linestyle='--')  # Diagonal line\n",
        "plt.xlim([0.0, 1.0])\n",
        "plt.ylim([0.0, 1.0])\n",
        "plt.xlabel('False Positive Rate')\n",
        "plt.ylabel('True Positive Rate')\n",
        "plt.title('Receiver Operating Characteristic (ROC) Curve')\n",
        "plt.legend(loc='lower right')\n",
        "plt.show()"
      ],
      "metadata": {
        "colab": {
          "base_uri": "https://localhost:8080/",
          "height": 564
        },
        "id": "2vYiLybP68Db",
        "outputId": "6afbce35-f94a-4cea-c19d-1336d50c5c20"
      },
      "execution_count": null,
      "outputs": [
        {
          "output_type": "display_data",
          "data": {
            "text/plain": [
              "<Figure size 800x600 with 1 Axes>"
            ],
            "image/png": "[encoded data removed]"
          },
          "metadata": {}
        }
      ]
    },
    {
      "cell_type": "code",
      "source": [
        "#Precision-Recall Curve Visualization\n",
        "from sklearn.metrics import precision_recall_curve\n",
        "\n",
        "# Calculate Precision-Recall curve\n",
        "precision, recall, thresholds = precision_recall_curve(all_labels, all_probs)\n",
        "\n",
        "# Plot Precision-Recall curve\n",
        "plt.figure(figsize=(8, 6))\n",
        "plt.plot(recall, precision, color='blue')\n",
        "plt.xlabel('Recall')\n",
        "plt.ylabel('Precision')\n",
        "plt.title('Precision-Recall Curve')\n",
        "plt.show()"
      ],
      "metadata": {
        "colab": {
          "base_uri": "https://localhost:8080/",
          "height": 564
        },
        "id": "UCk5HaMH7CIF",
        "outputId": "2d5aaa5d-eea3-448b-ee11-089c3d6dd062"
      },
      "execution_count": null,
      "outputs": [
        {
          "output_type": "display_data",
          "data": {
            "text/plain": [
              "<Figure size 800x600 with 1 Axes>"
            ],
            "image/png": "[encoded data removed]"
          },
          "metadata": {}
        }
      ]
    }
  ]
}